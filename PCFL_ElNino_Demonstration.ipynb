{
 "cells": [
  {
   "cell_type": "markdown",
   "metadata": {},
   "source": [
    "Instructions\n",
    "-------------\n",
    "This notebook borrows heavily from the notebook provided by Krzysztof Chalupka and colleagues as a supplement to their UAI 2016 paper \"Unsupervised Discovery of El Nino Using Causal Feature Learning on Micro-Level Climate Data\". Here, it implements the Algorithm 2 from our paper \"Pragamatic Causal Feature Learning\".\n",
    "\n",
    "At the end, you should get a \"Westerly Winds\" and \"El Nino\" cluster, and see that they correlate strongly in the conditional probability table. "
   ]
  },
  {
   "cell_type": "code",
   "execution_count": 1,
   "metadata": {},
   "outputs": [],
   "source": [
    "\"\"\" This cell sets up the Python environment. Make sure you have the following packages installed:\n",
    "numpy\n",
    "matplotlib\n",
    "theano\n",
    "lasagne\n",
    "sklearn\n",
    "All of them are available through $ pip install [package_name]. \n",
    "This is only tested on Ubuntu Linux, I've heard Theano is a pain to get working on Windows.\n",
    "\"\"\"\n",
    "\n",
    "import sys\n",
    "\n",
    "import numpy as np\n",
    "np.random.seed(1423)\n",
    "import matplotlib\n",
    "%matplotlib inline\n",
    "from matplotlib import pyplot as plt\n",
    "\n",
    "from sklearn.cluster import KMeans\n",
    "from sklearn.preprocessing import StandardScaler\n",
    "import theano\n",
    "import lasagne\n",
    "\n",
    "sys.setrecursionlimit(1000000) # Otherwise, joblib won't save deep nets.\n",
    "imshape = (55, 9) # This is the grid shape of our images, stored here for plotting reference."
   ]
  },
  {
   "cell_type": "markdown",
   "metadata": {},
   "source": [
    "The Dataset\n",
    "-----------\n",
    "\n",
    "The following code loads our data into the correct format:\n",
    "* X -- numpy array of size (n_datapoints, n_input_dim). Each row corresponds to one input value.\n",
    "* Y -- numpy array of size (n_datapoints, n_output_dim). Each row is one output value.\n",
    "\n",
    "In our case, each row of X is a (flattened) map of Pacific zonal wind strength, and each row of Y a (flattened) map of Pacific water temperature over the same region. In our case, n_input_dim == n_output_dim, but this need not be the case at all."
   ]
  },
  {
   "cell_type": "code",
   "execution_count": 2,
   "metadata": {},
   "outputs": [
    {
     "name": "stderr",
     "output_type": "stream",
     "text": [
      "/Users/davidkinney/opt/anaconda3/lib/python3.7/site-packages/ipykernel_launcher.py:6: DeprecationWarning: The file 'elnino_data.pkl' has been generated with a joblib version less than 0.10. Please regenerate this pickle file.\n",
      "  \n"
     ]
    }
   ],
   "source": [
    "import joblib \n",
    "\n",
    "# Load the data. \n",
    "## PLUG YOUR OWN DATA HERE. 'coords' is only needed to display climate maps. Your data\n",
    "## can only contain X and Y arrays.\n",
    "X, Y, coords = joblib.load('elnino_data.pkl')"
   ]
  },
  {
   "cell_type": "markdown",
   "metadata": {},
   "source": [
    "The Utility Function\n",
    "---------------------\n",
    "\n",
    "Tranform the Y values so that they are utilities, as defined by the utility function given in our paper, and then create the training and validation sets using these transformed Y values. "
   ]
  },
  {
   "cell_type": "code",
   "execution_count": 3,
   "metadata": {},
   "outputs": [],
   "source": [
    "Y = ((1/np.sqrt(.02*3.14))*np.exp(-(np.round(Y,1)-26)**2/.02))-1\n",
    "\n",
    "# Create a randomized, normalized training and validation set.\n",
    "shuffled_ids = np.random.permutation(X.shape[0])\n",
    "X_tr = X[shuffled_ids[:int(X.shape[0]*.9)]]\n",
    "Y_tr = Y[shuffled_ids[:int(Y.shape[0]*.9)]]\n",
    "X_ts = X[shuffled_ids[int(X.shape[0]*.9):]]\n",
    "Y_ts = Y[shuffled_ids[int(Y.shape[0]*.9):]]\n",
    "x_scaler = StandardScaler().fit(X_tr)\n",
    "y_scaler = StandardScaler().fit(Y_tr)\n",
    "X_tr = x_scaler.transform(X_tr)\n",
    "X_ts = x_scaler.transform(X_ts)\n",
    "Y_tr = y_scaler.transform(Y_tr)\n",
    "Y_ts = y_scaler.transform(Y_ts)"
   ]
  },
  {
   "cell_type": "markdown",
   "metadata": {},
   "source": [
    "Learning E(u(x,Y) | x))\n",
    "-----------------------\n",
    "\n",
    "The first step of Pragmatic Causal Feature Learning (CFL) is to cluster x's according to the expected value E(u(x,Y) | x)). Learning E(u(x,Y) | x)) amounts to regressing u(x,y) on x. We do this using a neural network and the Lasagne package. Be sure to train the network until it converges. "
   ]
  },
  {
   "cell_type": "code",
   "execution_count": 4,
   "metadata": {
    "collapsed": false,
    "jupyter": {
     "outputs_hidden": false
    }
   },
   "outputs": [
    {
     "name": "stdout",
     "output_type": "stream",
     "text": [
      "Validation mse before training: 1.3.\n",
      "Epoch 361. Valid loss 0.9136 [best 0.9136]. Train loss 1.034."
     ]
    },
    {
     "ename": "KeyboardInterrupt",
     "evalue": "",
     "output_type": "error",
     "traceback": [
      "\u001b[0;31m---------------------------------------------------------------------------\u001b[0m",
      "\u001b[0;31mKeyboardInterrupt\u001b[0m                         Traceback (most recent call last)",
      "\u001b[0;32m<ipython-input-4-a8698fe4745c>\u001b[0m in \u001b[0;36m<module>\u001b[0;34m\u001b[0m\n\u001b[1;32m     36\u001b[0m     \u001b[0;32mfor\u001b[0m \u001b[0mbatch_id\u001b[0m \u001b[0;32min\u001b[0m \u001b[0mrange\u001b[0m\u001b[0;34m(\u001b[0m\u001b[0mint\u001b[0m\u001b[0;34m(\u001b[0m\u001b[0mnp\u001b[0m\u001b[0;34m.\u001b[0m\u001b[0mfloor\u001b[0m\u001b[0;34m(\u001b[0m\u001b[0mX_tr\u001b[0m\u001b[0;34m.\u001b[0m\u001b[0mshape\u001b[0m\u001b[0;34m[\u001b[0m\u001b[0;36m1\u001b[0m\u001b[0;34m]\u001b[0m\u001b[0;34m/\u001b[0m\u001b[0mBATCHSIZE\u001b[0m\u001b[0;34m)\u001b[0m\u001b[0;34m)\u001b[0m\u001b[0;34m)\u001b[0m\u001b[0;34m:\u001b[0m\u001b[0;34m\u001b[0m\u001b[0;34m\u001b[0m\u001b[0m\n\u001b[1;32m     37\u001b[0m         tr_loss += train(X_tr[batch_id*BATCHSIZE:(batch_id+1)*BATCHSIZE],\n\u001b[0;32m---> 38\u001b[0;31m                          Y_tr[batch_id*BATCHSIZE:(batch_id+1)*BATCHSIZE])\n\u001b[0m\u001b[1;32m     39\u001b[0m     \u001b[0mval_loss\u001b[0m \u001b[0;34m=\u001b[0m \u001b[0mvalid\u001b[0m\u001b[0;34m(\u001b[0m\u001b[0mX_ts\u001b[0m\u001b[0;34m,\u001b[0m \u001b[0mY_ts\u001b[0m\u001b[0;34m)\u001b[0m\u001b[0;34m\u001b[0m\u001b[0;34m\u001b[0m\u001b[0m\n\u001b[1;32m     40\u001b[0m \u001b[0;34m\u001b[0m\u001b[0m\n",
      "\u001b[0;32m~/opt/anaconda3/lib/python3.7/site-packages/theano/compile/function_module.py\u001b[0m in \u001b[0;36m__call__\u001b[0;34m(self, *args, **kwargs)\u001b[0m\n\u001b[1;32m    901\u001b[0m         \u001b[0;32mtry\u001b[0m\u001b[0;34m:\u001b[0m\u001b[0;34m\u001b[0m\u001b[0;34m\u001b[0m\u001b[0m\n\u001b[1;32m    902\u001b[0m             \u001b[0moutputs\u001b[0m \u001b[0;34m=\u001b[0m\u001b[0;31m\\\u001b[0m\u001b[0;34m\u001b[0m\u001b[0;34m\u001b[0m\u001b[0m\n\u001b[0;32m--> 903\u001b[0;31m                 \u001b[0mself\u001b[0m\u001b[0;34m.\u001b[0m\u001b[0mfn\u001b[0m\u001b[0;34m(\u001b[0m\u001b[0;34m)\u001b[0m \u001b[0;32mif\u001b[0m \u001b[0moutput_subset\u001b[0m \u001b[0;32mis\u001b[0m \u001b[0;32mNone\u001b[0m \u001b[0;32melse\u001b[0m\u001b[0;31m\\\u001b[0m\u001b[0;34m\u001b[0m\u001b[0;34m\u001b[0m\u001b[0m\n\u001b[0m\u001b[1;32m    904\u001b[0m                 \u001b[0mself\u001b[0m\u001b[0;34m.\u001b[0m\u001b[0mfn\u001b[0m\u001b[0;34m(\u001b[0m\u001b[0moutput_subset\u001b[0m\u001b[0;34m=\u001b[0m\u001b[0moutput_subset\u001b[0m\u001b[0;34m)\u001b[0m\u001b[0;34m\u001b[0m\u001b[0;34m\u001b[0m\u001b[0m\n\u001b[1;32m    905\u001b[0m         \u001b[0;32mexcept\u001b[0m \u001b[0mException\u001b[0m\u001b[0;34m:\u001b[0m\u001b[0;34m\u001b[0m\u001b[0;34m\u001b[0m\u001b[0m\n",
      "\u001b[0;31mKeyboardInterrupt\u001b[0m: "
     ]
    }
   ],
   "source": [
    "# Define the network architecture.\n",
    "dropout = lasagne.layers.dropout\n",
    "batch_norm = lasagne.layers.batch_norm\n",
    "\n",
    "net = lasagne.layers.InputLayer(shape=(None, X[0].size))\n",
    "net = dropout(net, p=.2)\n",
    "net = lasagne.layers.DenseLayer(net, num_units=1024, W=lasagne.init.HeNormal(gain=1))\n",
    "net = dropout(net, p=.5)\n",
    "net = lasagne.layers.DenseLayer(net, num_units=1024, W=lasagne.init.HeNormal(gain=1))\n",
    "net = dropout(net, p=.5)\n",
    "net = lasagne.layers.DenseLayer(net, num_units=Y[0].size,\n",
    "    nonlinearity=lasagne.nonlinearities.identity)\n",
    "\n",
    "# Define the cost function in Theano.\n",
    "input_var = lasagne.layers.get_all_layers(net)[0].input_var\n",
    "target_var = theano.tensor.matrix('target')\n",
    "train_cost = lasagne.objectives.squared_error(lasagne.layers.get_output(net), target_var).mean() +\\\n",
    "    0.0001 * lasagne.regularization.regularize_network_params(net, lasagne.regularization.l2)\n",
    "valid_cost = lasagne.objectives.squared_error(\n",
    "    lasagne.layers.get_output(net, deterministic=True), target_var).mean()\n",
    "\n",
    "# Compile the training algorithm in Lasagne.\n",
    "parameters = lasagne.layers.get_all_params(net, trainable=True)\n",
    "updates = lasagne.updates.adam(train_cost, parameters, learning_rate=1e-4)\n",
    "train = theano.function([input_var, target_var], \n",
    "    train_cost, updates=updates, allow_input_downcast=True)\n",
    "valid = theano.function([input_var, target_var], valid_cost, allow_input_downcast=True)\n",
    "\n",
    "# Train. \n",
    "BATCHSIZE = 128\n",
    "val_loss = valid(X_ts, Y_ts)\n",
    "print('Validation mse before training: {:.2g}.'.format(float(val_loss)))\n",
    "best_loss = np.inf\n",
    "for epoch_id in range(1000):\n",
    "    tr_loss = 0\n",
    "    for batch_id in range(int(np.floor(X_tr.shape[1]/BATCHSIZE))):\n",
    "        tr_loss += train(X_tr[batch_id*BATCHSIZE:(batch_id+1)*BATCHSIZE],\n",
    "                         Y_tr[batch_id*BATCHSIZE:(batch_id+1)*BATCHSIZE])\n",
    "    val_loss = valid(X_ts, Y_ts)\n",
    "\n",
    "    if np.isfinite(val_loss) and val_loss < best_loss:\n",
    "        joblib.dump(net, 'nn_params/nn.pkl')\n",
    "        best_loss = val_loss\n",
    "\n",
    "    sys.stdout.write('\\rEpoch {}. Valid loss {:.4g} [best {:.4g}]. Train loss {:.4g}.'.format(\n",
    "            epoch_id, float(val_loss), float(best_loss), tr_loss/float(np.floor(X_tr.shape[1]/BATCHSIZE))))\n",
    "    sys.stdout.flush()\n",
    "print('Done')"
   ]
  },
  {
   "cell_type": "markdown",
   "metadata": {},
   "source": [
    "Finding the Observational Partition of X\n",
    "-----------------------------------------\n",
    "Finding the observational partition of X amounts to clustering the X data according to E[u(x,Y) | x)]. That is, we put two x's in the same bucket if the neural net we trained maps them to the same values."
   ]
  },
  {
   "cell_type": "code",
   "execution_count": 5,
   "metadata": {
    "collapsed": false,
    "jupyter": {
     "outputs_hidden": false
    }
   },
   "outputs": [],
   "source": [
    "# Load the best network found and compile it.\n",
    "net = joblib.load('nn_params/nn.pkl')\n",
    "input_var = lasagne.layers.get_all_layers(net)[0].input_var\n",
    "p_y_x = theano.function([input_var], lasagne.layers.get_output(net))\n",
    "\n",
    "# Cluster Xs.\n",
    "N_CLASSES = 4\n",
    "x_lbls = KMeans(n_clusters=N_CLASSES, n_init=10, n_jobs=-1).fit_predict(p_y_x(np.vstack([X_tr, X_ts])))"
   ]
  },
  {
   "cell_type": "markdown",
   "metadata": {},
   "source": [
    "Finding the Observational Partition of Y\n",
    "---------------------------------------------\n",
    "To find the partition of Y, we want to put together all y1 and y2 if u(x,y1) == u(x,y1) for all x. Unlike in Chalupka et al.'s algorithm, in our algorithm this is very straightforward."
   ]
  },
  {
   "cell_type": "code",
   "execution_count": 6,
   "metadata": {
    "collapsed": false,
    "jupyter": {
     "outputs_hidden": false
    }
   },
   "outputs": [],
   "source": [
    "y_lbls = KMeans(n_clusters=N_CLASSES, n_init=10, n_jobs=-1).fit_predict(np.vstack([Y_tr,Y_ts]))"
   ]
  },
  {
   "cell_type": "markdown",
   "metadata": {},
   "source": [
    "Understanding the Results\n",
    "--------------------------\n",
    "Visualizing the observational partition is data-specific. In our case, since both X and Y are images, we can visualize the means of each observational cluster to gain some insight into what it contains. \n",
    "\n",
    "But, one of the virtues of the method is that it is interpretation-agnostic. The observational partition can be used as a causal hypothesis to drive experimentation. This can be done whether the inputs and outputs are easily interpretable or not at all."
   ]
  },
  {
   "cell_type": "code",
   "execution_count": 61,
   "metadata": {
    "collapsed": false,
    "jupyter": {
     "outputs_hidden": false
    }
   },
   "outputs": [
    {
     "name": "stdout",
     "output_type": "stream",
     "text": [
      "P(TempCluster | WindCluster):\n",
      "[[0.02538787 0.32299013 0.64927127 0.00235073]\n",
      " [0.08636017 0.8020066  0.10312421 0.00850902]\n",
      " [0.62748926 0.25888325 0.08199922 0.03162827]\n",
      " [0.12975779 0.35813149 0.05882353 0.4532872 ]]\n"
     ]
    },
    {
     "data": {
      "image/png": "[encoded data removed]",
      "text/plain": [
       "<Figure size 1080x720 with 10 Axes>"
      ]
     },
     "metadata": {},
     "output_type": "display_data"
    }
   ],
   "source": [
    "fig = plt.figure(figsize=(15,10), facecolor='white')\n",
    "X_raw = x_scaler.inverse_transform(np.vstack([X_tr, X_ts]))\n",
    "Y_raw = y_scaler.inverse_transform(np.vstack([Y_tr, Y_ts]))\n",
    "\n",
    "levels = np.linspace(-6,8,30)\n",
    "x_cluster_id=0\n",
    "ax = plt.subplot2grid((4,2), (x_cluster_id, 0))  \n",
    "cluster_mean = (X_raw[x_lbls==x_cluster_id].mean(axis=0)-X_raw.mean(axis=0)).reshape(imshape).T\n",
    "imx1=ax.contourf(coords['x'].ravel(), coords['y'].ravel(), cluster_mean, levels=levels, cmap='BrBG_r')\n",
    "ax.set_xticks([]); ax.set_yticks([])\n",
    "\n",
    "levels = np.linspace(-6,8,30)\n",
    "x_cluster_id=1\n",
    "ax = plt.subplot2grid((4,2), (x_cluster_id, 0))  \n",
    "cluster_mean = (X_raw[x_lbls==x_cluster_id].mean(axis=0)-X_raw.mean(axis=0)).reshape(imshape).T\n",
    "im=ax.contourf(coords['x'].ravel(), coords['y'].ravel(), cluster_mean, levels=levels, cmap='BrBG_r')\n",
    "ax.set_xticks([]); ax.set_yticks([])\n",
    "\n",
    "levels = np.linspace(-6,8,30)\n",
    "x_cluster_id=2\n",
    "ax = plt.subplot2grid((4,2), (x_cluster_id, 0))  \n",
    "cluster_mean = (X_raw[x_lbls==x_cluster_id].mean(axis=0)-X_raw.mean(axis=0)).reshape(imshape).T\n",
    "im=ax.contourf(coords['x'].ravel(), coords['y'].ravel(), cluster_mean, levels=levels, cmap='BrBG_r')\n",
    "ax.set_xticks([]); ax.set_yticks([])\n",
    "\n",
    "levels = np.linspace(-6,8,30)\n",
    "x_cluster_id=3\n",
    "ax = plt.subplot2grid((4,2), (x_cluster_id, 0))  \n",
    "cluster_mean = (X_raw[x_lbls==x_cluster_id].mean(axis=0)-X_raw.mean(axis=0)).reshape(imshape).T\n",
    "im=ax.contourf(coords['x'].ravel(), coords['y'].ravel(), cluster_mean, levels=levels, cmap='BrBG_r')\n",
    "ax.set_xticks([]); ax.set_yticks([])\n",
    "\n",
    "fig.colorbar(im,orientation='horizontal')\n",
    "\n",
    "levels=np.linspace(-1,1,30)\n",
    "y_cluster_id=0\n",
    "ax = plt.subplot2grid((4,2), (y_cluster_id, 1))  \n",
    "# Plot the cluster's mean difference from all frames' mean.\n",
    "cluster_mean = (Y_raw[y_lbls==y_cluster_id].mean(axis=0)-Y_raw.mean(axis=0)).reshape(imshape).T\n",
    "im=ax.contourf(coords['x'].ravel(), coords['y'].ravel(), cluster_mean, levels=levels, cmap='Spectral')\n",
    "ax.set_xticks([]); ax.set_yticks([])\n",
    "\n",
    "\n",
    "levels=np.linspace(-1,1,30)\n",
    "y_cluster_id=1\n",
    "ax = plt.subplot2grid((4,2), (y_cluster_id, 1))  \n",
    "# Plot the cluster's mean difference from all frames' mean.\n",
    "cluster_mean = (Y_raw[y_lbls==y_cluster_id].mean(axis=0)-Y_raw.mean(axis=0)).reshape(imshape).T\n",
    "im=ax.contourf(coords['x'].ravel(), coords['y'].ravel(), cluster_mean, levels=levels, cmap='Spectral')\n",
    "ax.set_xticks([]); ax.set_yticks([])\n",
    "\n",
    "levels=np.linspace(-1,1,30)\n",
    "y_cluster_id=2\n",
    "ax = plt.subplot2grid((4,2), (y_cluster_id, 1))  \n",
    "# Plot the cluster's mean difference from all frames' mean.\n",
    "cluster_mean = (Y_raw[y_lbls==y_cluster_id].mean(axis=0)-Y_raw.mean(axis=0)).reshape(imshape).T\n",
    "im=ax.contourf(coords['x'].ravel(), coords['y'].ravel(), cluster_mean, levels=levels, cmap='Spectral')\n",
    "ax.set_xticks([]); ax.set_yticks([])\n",
    "    \n",
    "    \n",
    "levels=np.linspace(-1,1,30)\n",
    "y_cluster_id=3\n",
    "ax = plt.subplot2grid((4,2), (y_cluster_id, 1))  \n",
    "# Plot the cluster's mean difference from all frames' mean.\n",
    "cluster_mean = (Y_raw[y_lbls==y_cluster_id].mean(axis=0)-Y_raw.mean(axis=0)).reshape(imshape).T\n",
    "im=ax.contourf(coords['x'].ravel(), coords['y'].ravel(), cluster_mean, levels=levels, cmap='Spectral')\n",
    "ax.set_xticks([]); ax.set_yticks([])\n",
    "\n",
    "fig.colorbar(im,orientation='horizontal')\n",
    "\n",
    "    \n",
    "# Compute and print P(y_lbl | x_lbl)\n",
    "P_CE = np.array([np.bincount(y_lbls.astype(int)[x_lbls==x_lbl], \n",
    "    minlength=y_lbls.max()+1).astype(float) for x_lbl in np.sort(np.unique(x_lbls))])\n",
    "P_CE = P_CE/P_CE.sum()\n",
    "P_E_given_C = P_CE/P_CE.sum(axis=1, keepdims=True)\n",
    "\n",
    "print('P(TempCluster | WindCluster):')\n",
    "print(P_E_given_C)"
   ]
  },
  {
   "cell_type": "code",
   "execution_count": null,
   "metadata": {},
   "outputs": [],
   "source": []
  }
 ],
 "metadata": {
  "kernelspec": {
   "display_name": "Python 3",
   "language": "python",
   "name": "python3"
  },
  "language_info": {
   "codemirror_mode": {
    "name": "ipython",
    "version": 3
   },
   "file_extension": ".py",
   "mimetype": "text/x-python",
   "name": "python",
   "nbconvert_exporter": "python",
   "pygments_lexer": "ipython3",
   "version": "3.7.4"
  }
 },
 "nbformat": 4,
 "nbformat_minor": 4
}
